{
 "cells": [
  {
   "cell_type": "markdown",
   "metadata": {},
   "source": [
    "# Рабочий ноутбук"
   ]
  },
  {
   "cell_type": "markdown",
   "metadata": {},
   "source": [
    "Соберем все что нам нужно"
   ]
  },
  {
   "cell_type": "code",
   "execution_count": 1,
   "metadata": {},
   "outputs": [
    {
     "name": "stderr",
     "output_type": "stream",
     "text": [
      "25/02/25 08:23:13 WARN Utils: Your hostname, ono-workstation resolves to a loopback address: 127.0.1.1; using 192.168.15.44 instead (on interface wlp62s0)\n",
      "25/02/25 08:23:13 WARN Utils: Set SPARK_LOCAL_IP if you need to bind to another address\n",
      "Setting default log level to \"WARN\".\n",
      "To adjust logging level use sc.setLogLevel(newLevel). For SparkR, use setLogLevel(newLevel).\n",
      "25/02/25 08:23:14 WARN NativeCodeLoader: Unable to load native-hadoop library for your platform... using builtin-java classes where applicable\n"
     ]
    }
   ],
   "source": [
    "import os\n",
    "from dotenv import load_dotenv\n",
    "from pyspark.sql import SparkSession\n",
    "\n",
    "# Загрузка переменных окружения\n",
    "env_path = os.path.join(\"..\", \".env\")\n",
    "load_dotenv(env_path)\n",
    "\n",
    "# Пути к данным\n",
    "output_data_path = os.path.join(\"..\", \"data\", \"output_data\")\n",
    "\n",
    "# Создание сессии Spark\n",
    "spark = SparkSession.builder.appName(\"SimpleApp\").getOrCreate()"
   ]
  },
  {
   "cell_type": "markdown",
   "metadata": {},
   "source": [
    "Скачаем данные"
   ]
  },
  {
   "cell_type": "code",
   "execution_count": 5,
   "metadata": {},
   "outputs": [
    {
     "name": "stdout",
     "output_type": "stream",
     "text": [
      "download: 's3://airflow-bucket-6a7b75351c04c47d/output_data/sum_data.parquet/_SUCCESS' -> '../data/output_data/sum_data.parquet/_SUCCESS'  [1 of 3]\n",
      " 0 of 0     0% in    0s     0.00 B/s  done\n",
      "download: 's3://airflow-bucket-6a7b75351c04c47d/output_data/sum_data.parquet/part-00000-34c53bd8-6d67-4a61-b5eb-b43921605caf-c000.snappy.parquet' -> '../data/output_data/sum_data.parquet/part-00000-34c53bd8-6d67-4a61-b5eb-b43921605caf-c000.snappy.parquet'  [2 of 3]\n",
      " 304 of 304   100% in    0s   847.27 B/s  done\n",
      "download: 's3://airflow-bucket-6a7b75351c04c47d/output_data/sum_data.parquet/part-00001-34c53bd8-6d67-4a61-b5eb-b43921605caf-c000.snappy.parquet' -> '../data/output_data/sum_data.parquet/part-00001-34c53bd8-6d67-4a61-b5eb-b43921605caf-c000.snappy.parquet'  [3 of 3]\n",
      " 475 of 475   100% in    0s   866.22 B/s  done\n"
     ]
    }
   ],
   "source": [
    "!s3cmd get --recursive --force s3://{os.getenv(\"S3_BUCKET_NAME\")}/output_data/ {output_data_path}/"
   ]
  },
  {
   "cell_type": "markdown",
   "metadata": {},
   "source": [
    "Прочитаем результат"
   ]
  },
  {
   "cell_type": "code",
   "execution_count": 6,
   "metadata": {},
   "outputs": [
    {
     "name": "stdout",
     "output_type": "stream",
     "text": [
      "+------+\n",
      "|result|\n",
      "+------+\n",
      "|     4|\n",
      "+------+\n",
      "\n"
     ]
    }
   ],
   "source": [
    "df = spark.read.parquet(os.path.join(output_data_path, \"sum_data.parquet\"))\n",
    "df.show()"
   ]
  }
 ],
 "metadata": {
  "kernelspec": {
   "display_name": ".venv (3.8.10)",
   "language": "python",
   "name": "python3"
  },
  "language_info": {
   "codemirror_mode": {
    "name": "ipython",
    "version": 3
   },
   "file_extension": ".py",
   "mimetype": "text/x-python",
   "name": "python",
   "nbconvert_exporter": "python",
   "pygments_lexer": "ipython3",
   "version": "3.11.11"
  }
 },
 "nbformat": 4,
 "nbformat_minor": 2
}
